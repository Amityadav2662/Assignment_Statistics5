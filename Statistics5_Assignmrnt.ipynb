{
 "cells": [
  {
   "cell_type": "code",
   "execution_count": null,
   "id": "752324ab-13a4-4f2d-af7e-e48caa24927b",
   "metadata": {},
   "outputs": [],
   "source": [
    "# Q1: What is Estimation Statistics? Explain point estimate and interval estimate.\n",
    "Ans. \n",
    "Estimation statistics is a part of inferential statistics that deals with estimating population\n",
    "parameters based on sample data. In many real-world scenarios, it is often impractical or impossible\n",
    "to measure an entire population, so we use samples to make inferences about the population.\n",
    "\n",
    "There are two types of estimation statistics\n",
    "1. Point estimation : Point estimation is an single numerical value that serves as the best guess or\n",
    "approximation for an unknown population parameters based on sample data. \n",
    "\n",
    "2. Interval estimation : Interval estimation is an range of value used to estimate the unknown \n",
    "population parameters is expected to lie with a certain level of confidence or probability. Unlike the \n",
    "point estimate, which provides only a single value, the interval estimate provides a range of values. "
   ]
  },
  {
   "cell_type": "code",
   "execution_count": 11,
   "id": "a491d36e-d891-473e-b97f-850e14c8b4ef",
   "metadata": {},
   "outputs": [
    {
     "name": "stdout",
     "output_type": "stream",
     "text": [
      "Estimated population mean: 100\n",
      "Confidence Interval (95%): 92.531877264838, 107.468122735162\n"
     ]
    }
   ],
   "source": [
    "# Q2. Write a Python function to estimate the population mean using a sample mean and standard\n",
    "# deviation.\n",
    "import numpy as np\n",
    "import scipy.stats as stat\n",
    "\n",
    "def estimate_population(sample_mean,sample_stand_dev,sample_size,confidence_interval):\n",
    "    critical_value = stat.t.ppf((1 + confidence_interval)/2, df =  sample_size - 1)\n",
    "    margin_of_error = critical_value * sample_stand_dev / np.sqrt(sample_size)\n",
    "    \n",
    "    lower_bound = sample_mean - margin_of_error\n",
    "    upper_bound = sample_mean + margin_of_error\n",
    "    \n",
    "    return lower_bound, upper_bound\n",
    "\n",
    "sample_mean = 100\n",
    "sample_stand_dev = 20\n",
    "sample_size = 30\n",
    "confidence_interval = 0.95\n",
    "\n",
    "lower_bound, upper_bound = estimate_population(sample_mean,sample_stand_dev,sample_size,confidence_interval)\n",
    "print(\"Estimated population mean:\",sample_mean)\n",
    "print(\"Confidence Interval (95%): {}, {}\".format(lower_bound, upper_bound))"
   ]
  },
  {
   "cell_type": "code",
   "execution_count": null,
   "id": "c334ab1a-c590-4b89-8875-16d0eaaa3ae7",
   "metadata": {},
   "outputs": [],
   "source": [
    "# Q3: What is Hypothesis testing? Why is it used? State the importance of Hypothesis testing.\n",
    "Ans.\n",
    "Hypothesis testing is a part of inferential statistics that extract the conclusion from population data based on \n",
    "sample data that is called hypothesis testing.It involves formulating two competing hypotheses, the null hypothesis\n",
    "(H0) and the alternative hypothesis(Ha).\n",
    "\n",
    "Importance of hypothesis testing:\n",
    "1. It allows us to make inferences about populations based on data from samples.\n",
    "2. It helps us to determine whether there is a statistically significant difference between two groups or conditions.\n",
    "3. It can be used to test the effectiveness of new products or treatments.\n",
    "4. It can be used to make predictions about future events."
   ]
  },
  {
   "cell_type": "code",
   "execution_count": null,
   "id": "2ce4695b-3611-4056-8fd3-bab084bc793c",
   "metadata": {},
   "outputs": [],
   "source": [
    "# Q4. Create a hypothesis that states whether the average weight of male college students is greater than\n",
    "# the average weight of female college students.\n",
    "Ans. \n",
    "1. Null hypothesis(H0) : The average weight of male college students is equal to or less than the average weight of \n",
    "female college students.\n",
    "2. Alternative hypothesis(Ha) : The average weight of male college students is greater than the average weight of \n",
    "female college students.\n",
    "\n",
    "This hypothesis can be tested by collecting data on the weight of a sample of male and female college students. If \n",
    "the results of the study show that the average weight of male college students is significantly greater than the \n",
    "average weight of female college students, then the null hypothesis can be rejected. This would suggest that there \n",
    "is a real difference in the average weight of male and female college students."
   ]
  },
  {
   "cell_type": "code",
   "execution_count": 14,
   "id": "cfb43684-4b0f-41fe-b01b-d4b0f28092c1",
   "metadata": {},
   "outputs": [],
   "source": [
    "# Q5. Write a Python script to conduct a hypothesis test on the difference between two population means,\n",
    "# given a sample from each population.\n",
    "import numpy as np\n",
    "import scipy.stats as stat\n",
    "\n",
    "sample1 = np.random.normal(loc=100,scale=20,size=50)\n",
    "sample2 = np.random.normal(loc=100,scale=30,size=60)\n",
    "significance_value = 0.05"
   ]
  },
  {
   "cell_type": "code",
   "execution_count": 15,
   "id": "33dee62d-0296-4fdf-b8ac-b85ed4f3f9d9",
   "metadata": {},
   "outputs": [
    {
     "data": {
      "text/plain": [
       "(1.288329841305886, 0.20038442478859944)"
      ]
     },
     "execution_count": 15,
     "metadata": {},
     "output_type": "execute_result"
    }
   ],
   "source": [
    "T_statistic,pvalue = stat.ttest_ind(sample1,sample2)\n",
    "T_statistic,pvalue"
   ]
  },
  {
   "cell_type": "code",
   "execution_count": 18,
   "id": "dd4d061b-e4f9-44ca-90a3-a16a7c896692",
   "metadata": {},
   "outputs": [
    {
     "name": "stdout",
     "output_type": "stream",
     "text": [
      "-0.06285267287994518\n"
     ]
    }
   ],
   "source": [
    "critical_value = stat.t.ppf((1 - significance_value)/2, df = len(sample1) + len(sample2) - 2)\n",
    "print(critical_value)"
   ]
  },
  {
   "cell_type": "code",
   "execution_count": 20,
   "id": "97e477f0-6b82-4a3f-8d22-87fe65aa546f",
   "metadata": {},
   "outputs": [
    {
     "name": "stdout",
     "output_type": "stream",
     "text": [
      "We reject the null hypothesis\n"
     ]
    }
   ],
   "source": [
    "if np.abs(T_statistic) > critical_value:\n",
    "    print(\"We reject the null hypothesis\")\n",
    "else:\n",
    "    print(\"We fail to reject the null hypothesis\")"
   ]
  },
  {
   "cell_type": "code",
   "execution_count": null,
   "id": "32be834f-ee5f-4eda-a980-657dadeb8a92",
   "metadata": {},
   "outputs": [],
   "source": [
    "# Q6: What is a null and alternative hypothesis? Give some examples.\n",
    "Ans.\n",
    "A null hypothesis (H0) and an alternative hypothesis (Ha) are two mutually exclusive statements about a population\n",
    "parameter. The null hypothesis is a statement that there is no difference or effect, while the alternative hypothesis\n",
    "is a statement that there is a difference or effect.\n",
    "\n",
    "Examples of null and alternative hypotheses:\n",
    "a. Null hypothesis: There is no difference in the average height of men and women.\n",
    "   Alternative hypothesis: The average height of men is different from the average height of women.\n",
    "    \n",
    "b. Null hypothesis: The new drug is not effective in treating the disease.\n",
    "   Alternative hypothesis: The new drug is effective in treating the disease."
   ]
  },
  {
   "cell_type": "code",
   "execution_count": null,
   "id": "6d062398-3304-43a4-8c6c-a2ec269fe2b0",
   "metadata": {},
   "outputs": [],
   "source": [
    "# Q7: Write down the steps involved in hypothesis testing.\n",
    "Ans. \n",
    "The steps involved in hypothesis testing is:\n",
    "1. Null hypothesis(H0) : The null hypothesis is a statement that there is no difference or effect.\n",
    "2. Alternate hypothesis(H1) : alternative hypothesis is a statement that there is a difference or effect.\n",
    "3. Select a statistical test : The statistical test that you choose will depend on the type of data\n",
    "4. Calculate the test statistic :  The test statistic is a number that is used to determine whether the null hypothesis \n",
    "should be rejected.\n",
    "5. Set a significance level : The significance level is the probability of rejecting the null hypothesis when it is \n",
    "actually true. A significance level is 0.05.\n",
    "6. Find the p-value : The p-value is the probability of obtaining the test statistic that you did, or a more extreme\n",
    "test statistic, if the null hypothesis is true.\n",
    "7. Make a decision : If the p-value is less than the significance level, then you reject the null hypothesis. If the \n",
    "p-value is greater than the significance level, then you fail to reject the null hypothesis."
   ]
  },
  {
   "cell_type": "code",
   "execution_count": null,
   "id": "894128eb-e45a-4e86-9560-bfa902f2e709",
   "metadata": {},
   "outputs": [],
   "source": [
    "# Q8. Define p-value and explain its significance in hypothesis testing.\n",
    "Ans.\n",
    "The p-value is the probability of getting the results you did, or more extreme results, if the null hypothesis is true.\n",
    "If the p-value is very low, then it is unlikely that you would get the results you did if the null hypothesis is true.\n",
    "This means that there is strong evidence to reject the null hypothesis.Typically, a p-value of 0.05 or less is considered\n",
    "to be statistically significant. This means that there is a less than 5% chance that you would get the results you did if\n",
    "the null hypothesis is true."
   ]
  },
  {
   "cell_type": "code",
   "execution_count": 43,
   "id": "31e7e26d-c5c8-4d7f-bf6d-a3d95a13f9c3",
   "metadata": {},
   "outputs": [
    {
     "data": {
      "image/png": "[encoded data removed]",
      "text/plain": [
       "<Figure size 640x480 with 1 Axes>"
      ]
     },
     "metadata": {},
     "output_type": "display_data"
    }
   ],
   "source": [
    "# Q9. Generate a Student's t-distribution plot using Python's matplotlib library, with the degrees of freedom\n",
    "# parameter set to 10.\n",
    "import matplotlib.pyplot as plt\n",
    "import scipy.stats as stats\n",
    "\n",
    "def t_distribution(x, dof):\n",
    "    student_t = stats.t.pdf(x, dof)\n",
    "    return student_t\n",
    "\n",
    "x = np.linspace(-4,4,500)\n",
    "dof = 10\n",
    "t = t_distribution(x, dof)\n",
    "plt.plot(x,t)\n",
    "plt.title(\"Student T Distribution\")\n",
    "plt.xlabel(\"x\")\n",
    "plt.ylabel(\"Probability Density\")\n",
    "plt.grid(True)\n",
    "plt.show()"
   ]
  },
  {
   "cell_type": "code",
   "execution_count": 16,
   "id": "1333bf04-0d67-49a2-9967-34aa919e2454",
   "metadata": {},
   "outputs": [],
   "source": [
    "# Q10. Write a Python program to calculate the two-sample t-test for independent samples, given two\n",
    "# random samples of equal size and a null hypothesis that the population means are equal.\n",
    "import numpy as np\n",
    "import scipy.stats as stat\n",
    "\n",
    "sample1 = np.random.normal(loc=100,scale=20,size=30)\n",
    "sample2 = np.random.normal(loc=100,scale=20,size=30)\n",
    "significance_value = 0.05"
   ]
  },
  {
   "cell_type": "code",
   "execution_count": 17,
   "id": "e0fe4bbe-1961-4ec5-8eb7-a4191149a560",
   "metadata": {},
   "outputs": [
    {
     "data": {
      "text/plain": [
       "(0.6152623489406311, 0.5407881664724501)"
      ]
     },
     "execution_count": 17,
     "metadata": {},
     "output_type": "execute_result"
    }
   ],
   "source": [
    "T_statistic,pvalue = stat.ttest_ind(sample1,sample2)\n",
    "T_statistic,pvalue"
   ]
  },
  {
   "cell_type": "code",
   "execution_count": 18,
   "id": "359d6894-478d-4c01-89d3-18c57ef39422",
   "metadata": {},
   "outputs": [
    {
     "data": {
      "text/plain": [
       "-0.06297871078156714"
      ]
     },
     "execution_count": 18,
     "metadata": {},
     "output_type": "execute_result"
    }
   ],
   "source": [
    "dof = len(sample1) + len(sample2) - 2\n",
    "critical_value = stat.t.ppf((1-significance_value)/2,dof)\n",
    "critical_value"
   ]
  },
  {
   "cell_type": "code",
   "execution_count": 19,
   "id": "bd8a83c7-3217-4a75-a354-eedd7c9eec8d",
   "metadata": {},
   "outputs": [
    {
     "name": "stdout",
     "output_type": "stream",
     "text": [
      "We reject the null hypothesis\n"
     ]
    }
   ],
   "source": [
    "if np.abs(T_statistic) > critical_value:\n",
    "    print(\"We reject the null hypothesis\")\n",
    "else:\n",
    "    print(\"We fail to reject the null hypothesis\")"
   ]
  },
  {
   "cell_type": "code",
   "execution_count": null,
   "id": "76e769f5-c3dd-4d0f-8050-26a5436ed598",
   "metadata": {},
   "outputs": [],
   "source": [
    "# Q11: What is Student’s t distribution? When to use the t-Distribution.\n",
    "Ans.\n",
    "Student’s t-distribution, also known as the t-distribution, is a probability distribution that is used in statistics for\n",
    "making inferences about the population mean when the sample size is small or when the population standard deviation is \n",
    "unknown. It is similar to the standard normal distribution (Z-distribution), but it has heavier tails.\n",
    "\n",
    "Student’s t Distribution is used when \n",
    "1. The sample size is 30 or less than 30.\n",
    "2. The population standard deviation(σ) is unknown.\n",
    "3. The population distribution must be unimodal and skewed."
   ]
  },
  {
   "cell_type": "code",
   "execution_count": null,
   "id": "ae539739-ed6a-4cfe-a2b4-7414ef72bc80",
   "metadata": {},
   "outputs": [],
   "source": [
    "# Q12: What is t-statistic? State the formula for t-statistic.\n",
    "Ans.\n",
    "The t-statistic is a statistical test statistic that is used to compare the means of two groups when the population \n",
    "standard deviation is unknown. It is a ratio of the difference between the sample means to the standard error of the \n",
    "difference between the means.\n",
    "\n",
    "The formula of t-statistic is (X‾ - mean) / (s / √n)"
   ]
  },
  {
   "cell_type": "code",
   "execution_count": 34,
   "id": "a3a4c601-3f7d-409f-8e6f-85ae5640ee4d",
   "metadata": {},
   "outputs": [
    {
     "name": "stdout",
     "output_type": "stream",
     "text": [
      "The population mean revenue with 95% of confindence level is 486.1409617565032, 513.8590382434968\n"
     ]
    }
   ],
   "source": [
    "# Q13. A coffee shop owner wants to estimate the average daily revenue for their shop. They take a random\n",
    "# sample of 50 days and find the sample mean revenue to be $500 with a standard deviation of $50.\n",
    "# Estimate the population mean revenue with a 95% confidence interval.\n",
    "\n",
    "import scipy.stats as stat\n",
    "import math\n",
    "\n",
    "def estimate_revenue(sample_mean,stand_dev,sample_size,significance_value):\n",
    "    z_critical = stat.norm.ppf(1-significance_value/2)\n",
    "    \n",
    "    margin_of_error = z_critical * (stand_dev/ math.sqrt(sample_size))\n",
    "    \n",
    "    lower_bound = sample_mean - margin_of_error\n",
    "    upper_bound = sample_mean + margin_of_error\n",
    "    \n",
    "    return (lower_bound,upper_bound)\n",
    "\n",
    "sample_mean = 500\n",
    "stand_dev = 50\n",
    "sample_size = 50\n",
    "significance_value = 0.05\n",
    "lower_bound, upper_bound = estimate_revenue(sample_mean,stand_dev,sample_size,significance_value)\n",
    "print(\"The population mean revenue with 95% of confindence level is {}, {}\".format(lower_bound,upper_bound))"
   ]
  },
  {
   "cell_type": "code",
   "execution_count": 55,
   "id": "4061b3d9-1663-4fdb-857d-e519de8cc417",
   "metadata": {},
   "outputs": [
    {
     "name": "stdout",
     "output_type": "stream",
     "text": [
      "The t-statistics value is : -0.06666666666666667\n",
      "The critical value is : 1.9842169515086827\n",
      "We fail to reject the null hypothesis\n"
     ]
    }
   ],
   "source": [
    "# Q14. A researcher hypothesizes that a new drug will decrease blood pressure by 10 mmHg. They conduct a\n",
    "# clinical trial with 100 patients and find that the sample mean decrease in blood pressure is 8 mmHg with a\n",
    "# standard deviation of 3 mmHg. Test the hypothesis with a significance level of 0.05.\n",
    "\n",
    "import scipy.stats as stat\n",
    "import math\n",
    "\n",
    "def blood_pressure(sample_mean,sample_stand_dev,sample_size,significance_value,population_mean):\n",
    "    dof = sample_size - 1\n",
    "    \n",
    "    t_stats = (sample_mean - population_mean)/sample_stand_dev/math.sqrt(sample_size)\n",
    "    critical_value = stat.t.ppf(1-significance_value/2,dof)\n",
    "    return t_stats,critical_value\n",
    "\n",
    "sample_mean = 8\n",
    "sample_stand_dev = 3\n",
    "significance_value = 0.05\n",
    "sample_size = 100\n",
    "population_mean = 10\n",
    "\n",
    "t_stats,critical_value = blood_pressure(sample_mean,sample_stand_dev,sample_size,significance_value,population_mean)\n",
    "print(\"The t-statistics value is :\",t_stats)\n",
    "print(\"The critical value is :\",critical_value)\n",
    "\n",
    "if t_stats > critical_value:\n",
    "    print(\"We reject the null hypothesis\")\n",
    "else:\n",
    "    print(\"We fail to reject the null hypothesis\")"
   ]
  },
  {
   "cell_type": "code",
   "execution_count": 57,
   "id": "4b83f087-3012-4be9-803f-26563fe87283",
   "metadata": {},
   "outputs": [
    {
     "name": "stdout",
     "output_type": "stream",
     "text": [
      "The t-statistics value is : 0.08000000000000007\n",
      "The critical value is : 2.4921594731575762\n",
      "We fail to reject the null hypothesis\n"
     ]
    }
   ],
   "source": [
    "# Q15. An electronics company produces a certain type of product with a mean weight of 5 pounds and a\n",
    "# standard deviation of 0.5 pounds. A random sample of 25 products is taken, and the sample mean weight\n",
    "# is found to be 4.8 pounds. Test the hypothesis that the true mean weight of the products is less than 5\n",
    "# pounds with a significance level of 0.01.\n",
    "\n",
    "import scipy.stats as stat\n",
    "\n",
    "def weight_product(sample_mean,sample_stand_dev,sample_size,significance_value,population_mean):\n",
    "    dof = sample_size - 1\n",
    "    \n",
    "    t_stats = (sample_mean - population_mean)/sample_stand_dev/math.sqrt(sample_size)\n",
    "    critical_value = stat.t.ppf(1-significance_value,dof)\n",
    "    \n",
    "    return t_stats,critical_value\n",
    "    \n",
    "    \n",
    "sample_mean = 5\n",
    "sample_stand_dev = 0.5\n",
    "sample_size = 25\n",
    "population_mean = 4.8\n",
    "significance_value = 0.01\n",
    "\n",
    "t_stats,critical_value = weight_product(sample_mean,sample_stand_dev,sample_size,significance_value,population_mean)\n",
    "print(\"The t-statistics value is :\",t_stats)\n",
    "print(\"The critical value is :\",critical_value)\n",
    "\n",
    "if t_stats > critical_value:\n",
    "    print(\"We reject the null hypothesis\")\n",
    "else:\n",
    "    print(\"We fail to reject the null hypothesis\")"
   ]
  },
  {
   "cell_type": "code",
   "execution_count": 18,
   "id": "628371b1-0026-486d-9caa-2e06f33300c4",
   "metadata": {},
   "outputs": [
    {
     "name": "stdout",
     "output_type": "stream",
     "text": [
      "The t-statistics value is : 2.323967729699292\n",
      "The critical value is : 2.3816145030996787\n",
      "We fail to reject the null hypothesis\n"
     ]
    }
   ],
   "source": [
    "# Q16. Two groups of students are given different study materials to prepare for a test. The first group (n1 =\n",
    "# 30) has a mean score of 80 with a standard deviation of 10, and the second group (n2 = 40) has a mean\n",
    "# score of 75 with a standard deviation of 8. Test the hypothesis that the population means for the two\n",
    "# groups are equal with a significance level of 0.01.\n",
    "\n",
    "import scipy.stats as stat\n",
    "\n",
    "def weight_product(sample_mean1,sample_stand_dev1,sample_size1,significance_value,sample_mean2,sample_stand_dev2,sample_size2):\n",
    "    dof = sample_size1 + sample_size2 - 1\n",
    "    \n",
    "    t_stats,p_value = stat.ttest_ind_from_stats(sample_mean1,sample_stand_dev1,sample_size1,\n",
    "                                                sample_mean2,sample_stand_dev2,sample_size2,equal_var=True)\n",
    "    critical_value = stat.t.ppf(1-significance_value,dof)\n",
    "    \n",
    "    return t_stats,critical_value\n",
    "\n",
    "\n",
    "sample_size1 = 30\n",
    "sample_mean1 = 80\n",
    "sample_stand_dev1 = 10\n",
    "\n",
    "sample_size2 = 40\n",
    "sample_mean2 = 75\n",
    "sample_stand_dev2 = 8\n",
    "\n",
    "significance_value = 0.01\n",
    "\n",
    "t_stats,critical_value = weight_product(sample_mean1,sample_stand_dev1,sample_size1,significance_value,\n",
    "                                        sample_mean2,sample_stand_dev2,sample_size2)\n",
    "print(\"The t-statistics value is :\",t_stats)\n",
    "print(\"The critical value is :\",critical_value)\n",
    "\n",
    "if t_stats > critical_value:\n",
    "    print(\"We reject the null hypothesis\")\n",
    "else:\n",
    "    print(\"We fail to reject the null hypothesis\")"
   ]
  },
  {
   "cell_type": "code",
   "execution_count": 24,
   "id": "58942dd3-a6bc-4d94-9176-d348b004f40d",
   "metadata": {},
   "outputs": [
    {
     "name": "stdout",
     "output_type": "stream",
     "text": [
      "The population mean with a 99% confidence interval : 3.4535840896844654, 4.546415910315535\n"
     ]
    }
   ],
   "source": [
    "# Q17. A marketing company wants to estimate the average number of ads watched by viewers during a TV\n",
    "# program. They take a random sample of 50 viewers and find that the sample mean is 4 with a standard\n",
    "# deviation of 1.5. Estimate the population mean with a 99% confidence interval.\n",
    "\n",
    "import scipy.stats as stat\n",
    "import math\n",
    "\n",
    "def estimate_viewers(sample_size,sample_mean,sample_stand_dev,significance_value):\n",
    "    z_critical = stat.norm.ppf(1-significance_value/2)\n",
    "    \n",
    "    margin_of_error = z_critical * (sample_stand_dev / math.sqrt(sample_size))\n",
    "    lower_bound = sample_mean - margin_of_error\n",
    "    upper_bound = sample_mean + margin_of_error\n",
    "    \n",
    "    return lower_bound,upper_bound\n",
    "\n",
    "sample_size = 50\n",
    "sample_mean = 4\n",
    "sample_stand_dev = 1.5\n",
    "significance_value = 0.01\n",
    "lower_bound,upper_bound = estimate_viewers(sample_size,sample_mean,sample_stand_dev,significance_value)\n",
    "print(\"The population mean with a 99% confidence interval : {}, {}\".format(lower_bound,upper_bound))"
   ]
  },
  {
   "cell_type": "code",
   "execution_count": null,
   "id": "c43ce67d-393b-4a07-9d3d-33656833ebea",
   "metadata": {},
   "outputs": [],
   "source": []
  }
 ],
 "metadata": {
  "kernelspec": {
   "display_name": "Python 3 (ipykernel)",
   "language": "python",
   "name": "python3"
  },
  "language_info": {
   "codemirror_mode": {
    "name": "ipython",
    "version": 3
   },
   "file_extension": ".py",
   "mimetype": "text/x-python",
   "name": "python",
   "nbconvert_exporter": "python",
   "pygments_lexer": "ipython3",
   "version": "3.10.8"
  }
 },
 "nbformat": 4,
 "nbformat_minor": 5
}
